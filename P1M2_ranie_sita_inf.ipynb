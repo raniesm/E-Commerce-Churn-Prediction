{
 "cells": [
  {
   "cell_type": "code",
   "execution_count": 1,
   "metadata": {},
   "outputs": [],
   "source": [
    "#import library\n",
    "\n",
    "import pickle\n",
    "import json\n",
    "import pandas as pd\n",
    "import numpy as np"
   ]
  },
  {
   "cell_type": "markdown",
   "metadata": {},
   "source": [
    "### - Load Model"
   ]
  },
  {
   "cell_type": "code",
   "execution_count": 2,
   "metadata": {},
   "outputs": [],
   "source": [
    "#Load model\n",
    "\n",
    "with open('model_dt.pkl', 'rb') as file:\n",
    "    loaded_model = pickle.load(file)"
   ]
  },
  {
   "cell_type": "markdown",
   "metadata": {},
   "source": [
    "### Inference"
   ]
  },
  {
   "cell_type": "code",
   "execution_count": 4,
   "metadata": {},
   "outputs": [
    {
     "data": {
      "text/html": [
       "<div>\n",
       "<style scoped>\n",
       "    .dataframe tbody tr th:only-of-type {\n",
       "        vertical-align: middle;\n",
       "    }\n",
       "\n",
       "    .dataframe tbody tr th {\n",
       "        vertical-align: top;\n",
       "    }\n",
       "\n",
       "    .dataframe thead th {\n",
       "        text-align: right;\n",
       "    }\n",
       "</style>\n",
       "<table border=\"1\" class=\"dataframe\">\n",
       "  <thead>\n",
       "    <tr style=\"text-align: right;\">\n",
       "      <th></th>\n",
       "      <th>Product Category</th>\n",
       "      <th>Product Price</th>\n",
       "      <th>Quantity</th>\n",
       "      <th>Total Purchase Amount</th>\n",
       "      <th>Payment Method</th>\n",
       "      <th>Customer Age</th>\n",
       "      <th>Returns</th>\n",
       "      <th>Gender</th>\n",
       "      <th>Year of Purchase</th>\n",
       "      <th>Month of Purchase</th>\n",
       "      <th>Day of Purchase</th>\n",
       "      <th>Weekday of Purchase</th>\n",
       "      <th>Age Category</th>\n",
       "    </tr>\n",
       "  </thead>\n",
       "  <tbody>\n",
       "    <tr>\n",
       "      <th>0</th>\n",
       "      <td>Electronics</td>\n",
       "      <td>12</td>\n",
       "      <td>4</td>\n",
       "      <td>2739</td>\n",
       "      <td>PayPal</td>\n",
       "      <td>21</td>\n",
       "      <td>0</td>\n",
       "      <td>Female</td>\n",
       "      <td>2022</td>\n",
       "      <td>6</td>\n",
       "      <td>24</td>\n",
       "      <td>5</td>\n",
       "      <td>21-40</td>\n",
       "    </tr>\n",
       "  </tbody>\n",
       "</table>\n",
       "</div>"
      ],
      "text/plain": [
       "  Product Category  Product Price  Quantity  Total Purchase Amount  \\\n",
       "0      Electronics             12         4                   2739   \n",
       "\n",
       "  Payment Method  Customer Age  Returns  Gender  Year of Purchase  \\\n",
       "0         PayPal            21        0  Female              2022   \n",
       "\n",
       "   Month of Purchase  Day of Purchase  Weekday of Purchase Age Category  \n",
       "0                  6               24                    5        21-40  "
      ]
     },
     "execution_count": 4,
     "metadata": {},
     "output_type": "execute_result"
    }
   ],
   "source": [
    " #Create new data\n",
    "#Gunakan keseluruhan data\n",
    "\n",
    "data_inf = {\n",
    "    'Product Category' : 'Electronics', \n",
    "    'Product Price' : 12 , \n",
    "    'Quantity' : 4,\n",
    "    'Total Purchase Amount' :  2739, \n",
    "    'Payment Method' : 'PayPal', \n",
    "    'Customer Age' : 21, \n",
    "    'Returns' : 0,\n",
    "    'Gender' : 'Female', \n",
    "    'Year of Purchase': 2022, \n",
    "    'Month of Purchase' : 6, \n",
    "    'Day of Purchase' : 24,\n",
    "    'Weekday of Purchase': 5, \n",
    "    'Age Category' : '21-40'\n",
    "\n",
    "}\n",
    "\n",
    "data_inf = pd.DataFrame([data_inf])\n",
    "data_inf"
   ]
  },
  {
   "cell_type": "code",
   "execution_count": 10,
   "metadata": {},
   "outputs": [
    {
     "name": "stdout",
     "output_type": "stream",
     "text": [
      "Data Inferensi Setelah Transformasi:\n",
      "[[-1.70125335e+00  7.18898092e-01 -7.27533640e-04 -1.48288607e+00\n",
      "  -1.22209103e+00  5.61554525e-01 -6.84861632e-02  9.64928803e-01\n",
      "   1.01979470e+00  0.00000000e+00  1.00000000e+00  0.00000000e+00\n",
      "   0.00000000e+00  0.00000000e+00  1.00000000e+00  0.00000000e+00\n",
      "   1.00000000e+00  0.00000000e+00  0.00000000e+00]]\n"
     ]
    }
   ],
   "source": [
    "data_inf_final = loaded_model.named_steps['preprocessor'].transform(data_inf)\n",
    "\n",
    "print(\"Data Inferensi Setelah Transformasi:\")\n",
    "print(data_inf_final)"
   ]
  },
  {
   "cell_type": "code",
   "execution_count": 11,
   "metadata": {},
   "outputs": [
    {
     "name": "stdout",
     "output_type": "stream",
     "text": [
      "Hasil prediksi: [0]\n"
     ]
    }
   ],
   "source": [
    "y_pred_rf = loaded_model.predict(data_inf)\n",
    "print(\"Hasil prediksi:\", y_pred_rf)"
   ]
  }
 ],
 "metadata": {
  "kernelspec": {
   "display_name": "base",
   "language": "python",
   "name": "python3"
  },
  "language_info": {
   "codemirror_mode": {
    "name": "ipython",
    "version": 3
   },
   "file_extension": ".py",
   "mimetype": "text/x-python",
   "name": "python",
   "nbconvert_exporter": "python",
   "pygments_lexer": "ipython3",
   "version": "3.9.18"
  }
 },
 "nbformat": 4,
 "nbformat_minor": 2
}
